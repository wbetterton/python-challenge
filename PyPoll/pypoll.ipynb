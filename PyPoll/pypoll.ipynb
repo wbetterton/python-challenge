{
 "cells": [
  {
   "cell_type": "code",
   "execution_count": 1,
   "metadata": {},
   "outputs": [],
   "source": [
    "import os\n",
    "import csv\n",
    "import pandas as pd"
   ]
  },
  {
   "cell_type": "code",
   "execution_count": 2,
   "metadata": {},
   "outputs": [],
   "source": [
    "csvpath = os.path.join(\"..\",\"3 - Python\",\"election_data.csv\")"
   ]
  },
  {
   "cell_type": "code",
   "execution_count": 3,
   "metadata": {},
   "outputs": [],
   "source": [
    "csv_pandas_path = \"election_data.csv\"\n",
    "\n",
    "poll_df = pd.read_csv(csv_pandas_path, encoding=\"utf-8\")\n",
    "#poll_df.head()"
   ]
  },
  {
   "cell_type": "code",
   "execution_count": 4,
   "metadata": {},
   "outputs": [],
   "source": [
    "with open(csvpath, newline='') as csvfile:\n",
    "    csvreader = csv.reader(csvfile, delimiter=',')\n",
    "    \n",
    "    vote_count = len(list(csv.reader(open(csvpath))))   "
   ]
  },
  {
   "cell_type": "code",
   "execution_count": 5,
   "metadata": {},
   "outputs": [],
   "source": [
    "candidate_list = poll_df[\"Candidate\"].value_counts().reset_index()\n",
    "\n",
    "first_place = candidate_list[\"index\"].iloc[0:1]\n",
    "first_place_candidate = first_place.to_string(header=None, index=None)"
   ]
  },
  {
   "cell_type": "code",
   "execution_count": 6,
   "metadata": {},
   "outputs": [
    {
     "name": "stdout",
     "output_type": "stream",
     "text": [
      "Election Results\n",
      "-------------------------\n",
      "Total Votes: 3521001\n",
      "-------------------------\n",
      "     Khan  2218231\n",
      "   Correy   704200\n",
      "       Li   492940\n",
      " O'Tooley   105630\n",
      "-------------------------\n",
      "Winner:  Khan\n",
      "-------------------------\n"
     ]
    }
   ],
   "source": [
    "print(\"Election Results\")\n",
    "print(\"-------------------------\")\n",
    "print(\"Total Votes: \" + str(vote_count -1))\n",
    "print(\"-------------------------\")\n",
    "print(candidate_list.to_string(header=None, index=None))\n",
    "print(\"-------------------------\")\n",
    "print(\"Winner: \" + first_place_candidate)\n",
    "print(\"-------------------------\")"
   ]
  },
  {
   "cell_type": "code",
   "execution_count": null,
   "metadata": {},
   "outputs": [],
   "source": [
    "#divide candidate totals by sum total votes and multiply by 100 + \"%\""
   ]
  },
  {
   "cell_type": "code",
   "execution_count": 9,
   "metadata": {},
   "outputs": [],
   "source": [
    "file = open(\"resultsfilepoll.txt\",\"w\")\n",
    "\n",
    "file.write(\"Election Results\")\n",
    "file.write(\"-------------------------\")\n",
    "file.write(\"Total Votes: \" + str(vote_count -1))\n",
    "file.write(\"-------------------------\")\n",
    "file.write(candidate_list.to_string(header=None, index=None))\n",
    "file.write(\"-------------------------\")\n",
    "file.write(\"Winner: \" + first_place_candidate)\n",
    "file.write(\"-------------------------\")\n",
    "\n",
    "file.close()"
   ]
  },
  {
   "cell_type": "code",
   "execution_count": null,
   "metadata": {},
   "outputs": [],
   "source": []
  }
 ],
 "metadata": {
  "kernelspec": {
   "display_name": "Python 3",
   "language": "python",
   "name": "python3"
  },
  "language_info": {
   "codemirror_mode": {
    "name": "ipython",
    "version": 3
   },
   "file_extension": ".py",
   "mimetype": "text/x-python",
   "name": "python",
   "nbconvert_exporter": "python",
   "pygments_lexer": "ipython3",
   "version": "3.7.3"
  }
 },
 "nbformat": 4,
 "nbformat_minor": 4
}
