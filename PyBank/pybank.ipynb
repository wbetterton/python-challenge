{
 "cells": [
  {
   "cell_type": "code",
   "execution_count": 1,
   "metadata": {},
   "outputs": [],
   "source": [
    "import os\n",
    "import csv\n",
    "import pandas as pd"
   ]
  },
  {
   "cell_type": "code",
   "execution_count": 2,
   "metadata": {},
   "outputs": [],
   "source": [
    "csvpath = os.path.join(\"..\",\"3 - Python\",\"budget_data.csv\")"
   ]
  },
  {
   "cell_type": "code",
   "execution_count": 3,
   "metadata": {},
   "outputs": [],
   "source": [
    "csv_pandas_path = pd.read_csv(\"budget_data.csv\")\n",
    "df = pd.DataFrame(csv_pandas_path)\n",
    "df[\"Difference\"] = df[\"Profit/Losses\"].diff(1)\n",
    "\n",
    "decrease = csv_pandas_path[\"Difference\"].min()\n",
    "increase = csv_pandas_path[\"Difference\"].max()"
   ]
  },
  {
   "cell_type": "code",
   "execution_count": 4,
   "metadata": {},
   "outputs": [],
   "source": [
    "with open(csvpath, newline='') as csvfile:\n",
    "    csvreader = csv.reader(csvfile, delimiter=',')\n",
    "    csvtotal = csv.DictReader(csvfile)\n",
    "    \n",
    "    month_count = len(list(csv.reader(open(csvpath))))\n",
    "    \n",
    "    total = sum(float(row[\"Profit/Losses\"]) for row in csvtotal)\n",
    "    \n",
    "    average = str(round(total / (month_count - 1)))\n",
    "    \n",
    "  "
   ]
  },
  {
   "cell_type": "code",
   "execution_count": 5,
   "metadata": {},
   "outputs": [
    {
     "name": "stdout",
     "output_type": "stream",
     "text": [
      "Financial Analysis\n",
      "------------------\n",
      "Total Months: 86\n",
      "Total: $38382578.0\n",
      "Average Change: $446309\n",
      "Greatest Increase in Profits: 1926159.0\n",
      "Greatest Decrease in Profits: -2196167.0\n"
     ]
    }
   ],
   "source": [
    "print(\"Financial Analysis\")\n",
    "print(\"------------------\")\n",
    "print(\"Total Months: \" + str(month_count - 1))\n",
    "print(\"Total: $\" + str(total))\n",
    "print(\"Average Change: $\" + str(average))\n",
    "print(\"Greatest Increase in Profits: \" + str(increase))\n",
    "print(\"Greatest Decrease in Profits: \" + str(decrease))"
   ]
  },
  {
   "cell_type": "code",
   "execution_count": 6,
   "metadata": {},
   "outputs": [],
   "source": [
    "file = open(\"resultsfilebank.txt\",\"w\")\n",
    "\n",
    "file.write(\"Financial Analysis\")\n",
    "file.write(\"------------------\")\n",
    "file.write(\"Total Months: \" + str(month_count - 1))\n",
    "file.write(\"Total: $\" + str(total))\n",
    "file.write(\"Average Change: $\" + str(average))\n",
    "file.write(\"Greatest Increase in Profits: \" + str(increase))\n",
    "file.write(\"Greatest Decrease in Profits: \" + str(decrease))\n",
    "\n",
    "file.close()"
   ]
  },
  {
   "cell_type": "code",
   "execution_count": null,
   "metadata": {},
   "outputs": [],
   "source": []
  }
 ],
 "metadata": {
  "kernelspec": {
   "display_name": "Python 3",
   "language": "python",
   "name": "python3"
  },
  "language_info": {
   "codemirror_mode": {
    "name": "ipython",
    "version": 3
   },
   "file_extension": ".py",
   "mimetype": "text/x-python",
   "name": "python",
   "nbconvert_exporter": "python",
   "pygments_lexer": "ipython3",
   "version": "3.7.3"
  }
 },
 "nbformat": 4,
 "nbformat_minor": 4
}
